{
 "cells": [
  {
   "cell_type": "markdown",
   "metadata": {},
   "source": [
    "# Crime_Project\n",
    "### GeoMapping\n",
    "* Dependencies and Setup"
   ]
  },
  {
   "cell_type": "code",
   "execution_count": 103,
   "metadata": {},
   "outputs": [],
   "source": [
    "import gmaps\n",
    "import numpy as np\n",
    "import pandas as pd\n",
    "import gmaps.datasets\n",
    "import gmaps.geojson_geometries\n",
    "import matplotlib.pyplot as plt\n",
    "from matplotlib.cm import viridis, plasma\n",
    "# from matplotlib.colors import ListedColormap, LinearSegmentedColormap\n",
    "from matplotlib import cm\n",
    "from matplotlib.colors import to_hex\n",
    "\n",
    "import os, ssl\n",
    "if (not os.environ.get('PYTHONHTTPSVERIFY', '') and getattr(ssl, '_create_unverified_context', None)):\n",
    "    ssl._create_default_https_context = ssl._create_unverified_context\n",
    "\n",
    "# Census & gmaps API Keys\n",
    "from config import census_key, g_key\n",
    "\n",
    "# Configure gmaps\n",
    "gmaps.configure(api_key=g_key)\n",
    "states_geojson = gmaps.geojson_geometries.load_geometry('us-states')\n",
    "# print(len(states_geojson['features']))\n",
    "# print(states_geojson['features'][0])\n",
    "\n",
    "# Import data\n",
    "data = pd.read_csv('resources/states_2011.csv')\n",
    "cities_data = pd.read_csv('resources/uscities_data.csv')\n",
    "cities_geo = cities_data[['Lat', 'Lng']]"
   ]
  },
  {
   "cell_type": "code",
   "execution_count": 107,
   "metadata": {},
   "outputs": [],
   "source": [
    "# Create GmapsAnalysis Object\n",
    "class GmapsAnalysis():\n",
    "  \n",
    "    # Define initialization method\n",
    "    def __init__(self, data_df = data, state = 'State_Name', col = 'Crime_Tot', geometry='us-states'):\n",
    "        # Convert analyzed data values to dict and set the first geometry map layer\n",
    "        data_dict = data_df.filter([state, col])\n",
    "        data_dict = data_dict.set_index(state).to_dict()[col]\n",
    "        self.data = data_dict\n",
    "        self.min = min(self.data.values())\n",
    "        self.max = max(self.data.values())\n",
    "        self.range = self.max - self.min\n",
    "        self.geojson = gmaps.geojson_geometries.load_geometry(geometry)\n",
    "        self.fig = gmaps.figure()\n",
    "        \n",
    "    def calculate_color(self, state, cmap_color = plasma):\n",
    "        # We will need to scale the states values to lie between 0 and 1\n",
    "        # make state a number between 0 and 1\n",
    "        normalized_state = (state - self.min) / self.range\n",
    "        # invert state so that high value gives dark color\n",
    "        inverse_state = 1.0 - normalized_state\n",
    "        # transform the state value to a matplotlib color\n",
    "        mpl_color = cmap_color(inverse_state)\n",
    "        # transform from a matplotlib color to a valid CSS color\n",
    "        gmaps_color = to_hex(mpl_color, keep_alpha=False)\n",
    "\n",
    "        return gmaps_color\n",
    "\n",
    "    def colors_list(self, cmap_color = plasma):\n",
    "        colors = []\n",
    "        for feature in self.geojson['features']:\n",
    "            geo_state_name = feature['properties']['NAME']\n",
    "            try:\n",
    "                state = self.data[geo_state_name]\n",
    "                color = self.calculate_color(state, cmap_color)\n",
    "            except KeyError:\n",
    "            # no value for that state: return default color\n",
    "                color = (0, 0, 0, 0.3)\n",
    "            colors.append(color)\n",
    "        return colors\n",
    "\n",
    "    def color_map(self, cmap_color = plasma, opacity = 0.8):\n",
    "        states_layer = gmaps.geojson_layer(self.geojson,\n",
    "                                           fill_color = self.colors_list(cmap_color), stroke_color = self.colors_list(),\n",
    "                                            fill_opacity = opacity)\n",
    "        self.fig.add_layer(states_layer)\n",
    "        \n",
    "    def symbols_map(self, symbols_data, color = 'blue', scale = 1):\n",
    "        symbols_layer = gmaps.symbol_layer(symbols_data, fill_color = color, stroke_color = color, scale = scale)\n",
    "        self.fig.add_layer(symbols_layer)\n",
    "        \n",
    "    def marker_map(self, locations = [(41.8781136, -87.6297982)], cont = 'Chicago, IL'):\n",
    "        marker = gmaps.marker_layer(locations, info_box_content= cont)\n",
    "        self.fig.add_layer(marker)       "
   ]
  },
  {
   "cell_type": "code",
   "execution_count": 108,
   "metadata": {},
   "outputs": [],
   "source": [
    "def colorbar_plot(data, color_type = 'plasma'):\n",
    "    cms = cm.get_cmap(color_type, 256)\n",
    "    data = [list(data)]\n",
    "    fig, ax = plt.subplots(1, 1, figsize=(6, 3), constrained_layout=True)\n",
    "    psm = ax.pcolormesh(data, cmap=cms.reversed(), rasterized=True)\n",
    "    fig.colorbar(psm, ax=ax)\n",
    "    plt.show()"
   ]
  },
  {
   "cell_type": "markdown",
   "metadata": {},
   "source": [
    "### ColorMap for 51 US states based on adjusted rate for Crime and Deaths (location of 788 US cities added on map)"
   ]
  },
  {
   "cell_type": "code",
   "execution_count": 109,
   "metadata": {},
   "outputs": [
    {
     "data": {
      "application/vnd.jupyter.widget-view+json": {
       "model_id": "123ffc77a5e74c14b2d0cc257a81ed62",
       "version_major": 2,
       "version_minor": 0
      },
      "text/plain": [
       "Figure(layout=FigureLayout(height='420px'))"
      ]
     },
     "metadata": {},
     "output_type": "display_data"
    }
   ],
   "source": [
    "# Creating US states Crime Map\n",
    "crime = GmapsAnalysis()\n",
    "crime.color_map(cmap_color = plasma)\n",
    "# Adding US cities symbols and Chicago infobox\n",
    "crime.symbols_map(cities_geo, color = 'red')\n",
    "crime.marker_map()\n",
    "crime.fig"
   ]
  },
  {
   "cell_type": "markdown",
   "metadata": {},
   "source": [
    "![crime_map](images/crime_rate_2011.png)"
   ]
  },
  {
   "cell_type": "code",
   "execution_count": 110,
   "metadata": {},
   "outputs": [
    {
     "data": {
      "image/png": "[encoded data removed]",
      "text/plain": [
       "<Figure size 432x216 with 2 Axes>"
      ]
     },
     "metadata": {
      "needs_background": "light"
     },
     "output_type": "display_data"
    }
   ],
   "source": [
    "colorbar_plot(crime.data.values(), color_type = 'plasma')"
   ]
  },
  {
   "cell_type": "code",
   "execution_count": 41,
   "metadata": {},
   "outputs": [
    {
     "data": {
      "application/vnd.jupyter.widget-view+json": {
       "model_id": "ccdd34cf8d7c485491ae36a97a586bb6",
       "version_major": 2,
       "version_minor": 0
      },
      "text/plain": [
       "Figure(layout=FigureLayout(height='420px'))"
      ]
     },
     "metadata": {},
     "output_type": "display_data"
    }
   ],
   "source": [
    "# Creating US states Deaths Map\n",
    "deaths = GmapsAnalysis(col='All causes')\n",
    "deaths.color_map(cmap_color = viridis)\n",
    "# Adding US cities symbols and Chicago infobox\n",
    "deaths.symbols_map(cities_geo)\n",
    "deaths.marker_map()\n",
    "deaths.fig"
   ]
  },
  {
   "cell_type": "markdown",
   "metadata": {},
   "source": [
    "![deaths_map](images/death_rate_2011.png)"
   ]
  },
  {
   "cell_type": "code",
   "execution_count": 96,
   "metadata": {},
   "outputs": [
    {
     "data": {
      "image/png": "[encoded data removed]",
      "text/plain": [
       "<Figure size 432x216 with 2 Axes>"
      ]
     },
     "metadata": {
      "needs_background": "light"
     },
     "output_type": "display_data"
    }
   ],
   "source": [
    "colorbar_plot(deaths.data.values(), color_type = 'viridis')"
   ]
  },
  {
   "cell_type": "markdown",
   "metadata": {},
   "source": [
    "### HeatingMap for 79 US cities"
   ]
  },
  {
   "cell_type": "code",
   "execution_count": 19,
   "metadata": {},
   "outputs": [
    {
     "data": {
      "text/html": [
       "<div>\n",
       "<style scoped>\n",
       "    .dataframe tbody tr th:only-of-type {\n",
       "        vertical-align: middle;\n",
       "    }\n",
       "\n",
       "    .dataframe tbody tr th {\n",
       "        vertical-align: top;\n",
       "    }\n",
       "\n",
       "    .dataframe thead th {\n",
       "        text-align: right;\n",
       "    }\n",
       "</style>\n",
       "<table border=\"1\" class=\"dataframe\">\n",
       "  <thead>\n",
       "    <tr style=\"text-align: right;\">\n",
       "      <th></th>\n",
       "      <th>City</th>\n",
       "      <th>State</th>\n",
       "      <th>2014</th>\n",
       "      <th>2015</th>\n",
       "      <th>% Change</th>\n",
       "      <th>Lat</th>\n",
       "      <th>Lng</th>\n",
       "    </tr>\n",
       "  </thead>\n",
       "  <tbody>\n",
       "    <tr>\n",
       "      <th>0</th>\n",
       "      <td>Chicago</td>\n",
       "      <td>Illinois</td>\n",
       "      <td>411</td>\n",
       "      <td>478</td>\n",
       "      <td>67</td>\n",
       "      <td>41.878114</td>\n",
       "      <td>-87.629798</td>\n",
       "    </tr>\n",
       "    <tr>\n",
       "      <th>1</th>\n",
       "      <td>New York</td>\n",
       "      <td>New York</td>\n",
       "      <td>333</td>\n",
       "      <td>352</td>\n",
       "      <td>19</td>\n",
       "      <td>40.712775</td>\n",
       "      <td>-74.005973</td>\n",
       "    </tr>\n",
       "    <tr>\n",
       "      <th>2</th>\n",
       "      <td>Baltimore</td>\n",
       "      <td>Maryland</td>\n",
       "      <td>211</td>\n",
       "      <td>344</td>\n",
       "      <td>133</td>\n",
       "      <td>39.290385</td>\n",
       "      <td>-76.612189</td>\n",
       "    </tr>\n",
       "    <tr>\n",
       "      <th>3</th>\n",
       "      <td>Houston</td>\n",
       "      <td>Texas</td>\n",
       "      <td>242</td>\n",
       "      <td>303</td>\n",
       "      <td>61</td>\n",
       "      <td>29.760427</td>\n",
       "      <td>-95.369803</td>\n",
       "    </tr>\n",
       "    <tr>\n",
       "      <th>4</th>\n",
       "      <td>Detroit</td>\n",
       "      <td>Michigan</td>\n",
       "      <td>298</td>\n",
       "      <td>295</td>\n",
       "      <td>-3</td>\n",
       "      <td>42.331427</td>\n",
       "      <td>-83.045754</td>\n",
       "    </tr>\n",
       "  </tbody>\n",
       "</table>\n",
       "</div>"
      ],
      "text/plain": [
       "        City     State  2014  2015  % Change        Lat        Lng\n",
       "0    Chicago  Illinois   411   478        67  41.878114 -87.629798\n",
       "1   New York  New York   333   352        19  40.712775 -74.005973\n",
       "2  Baltimore  Maryland   211   344       133  39.290385 -76.612189\n",
       "3    Houston     Texas   242   303        61  29.760427 -95.369803\n",
       "4    Detroit  Michigan   298   295        -3  42.331427 -83.045754"
      ]
     },
     "execution_count": 19,
     "metadata": {},
     "output_type": "execute_result"
    }
   ],
   "source": [
    "# import Murders stat Dataset for 79 US cities\n",
    "murders_data = pd.read_csv('resources/cities_murders.csv')\n",
    "chicago = murders_data[murders_data['City']=='Chicago']\n",
    "chicago_locations = chicago[['Lat', 'Lng']]\n",
    "murders_data.head()"
   ]
  },
  {
   "cell_type": "code",
   "execution_count": 3,
   "metadata": {},
   "outputs": [
    {
     "data": {
      "application/vnd.jupyter.widget-view+json": {
       "model_id": "f18674a51dc7438783b2be326694a147",
       "version_major": 2,
       "version_minor": 0
      },
      "text/plain": [
       "Figure(layout=FigureLayout(height='420px'))"
      ]
     },
     "metadata": {},
     "output_type": "display_data"
    }
   ],
   "source": [
    "# Creating DataSet for HeatMap Layers\n",
    "fig = gmaps.figure()\n",
    "locations = murders_data[['Lat', 'Lng']]\n",
    "weight = murders_data['2015']\n",
    "fig.add_layer(gmaps.heatmap_layer(locations, weights=weight, dissipating=False, max_intensity=30, point_radius=1))\n",
    "marker_chi = gmaps.marker_layer(chicago_locations,\n",
    "    info_box_content= 'Chicago,IL 414 murders in 2020')\n",
    "fig.add_layer(marker_chi)\n",
    "fig"
   ]
  },
  {
   "cell_type": "markdown",
   "metadata": {},
   "source": [
    "![crime_map](images/Chicago_Murders.png)"
   ]
  }
 ],
 "metadata": {
  "kernelspec": {
   "display_name": "Python 3",
   "language": "python",
   "name": "python3"
  },
  "language_info": {
   "codemirror_mode": {
    "name": "ipython",
    "version": 3
   },
   "file_extension": ".py",
   "mimetype": "text/x-python",
   "name": "python",
   "nbconvert_exporter": "python",
   "pygments_lexer": "ipython3",
   "version": "3.8.2"
  }
 },
 "nbformat": 4,
 "nbformat_minor": 4
}

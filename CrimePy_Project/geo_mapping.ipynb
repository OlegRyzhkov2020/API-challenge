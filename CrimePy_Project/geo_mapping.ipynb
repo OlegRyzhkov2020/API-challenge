{
 "cells": [
  {
   "cell_type": "code",
   "execution_count": 1,
   "metadata": {},
   "outputs": [],
   "source": [
    "import gmaps\n",
    "import pandas as pd\n",
    "import gmaps.datasets\n",
    "import gmaps.geojson_geometries\n",
    "from matplotlib.cm import viridis, plasma\n",
    "from matplotlib.colors import to_hex\n",
    "\n",
    "import os, ssl\n",
    "if (not os.environ.get('PYTHONHTTPSVERIFY', '') and getattr(ssl, '_create_unverified_context', None)):\n",
    "    ssl._create_default_https_context = ssl._create_unverified_context\n",
    "\n",
    "# Census & gmaps API Keys\n",
    "from config import census_key, g_key\n",
    "\n",
    "# Configure gmaps\n",
    "gmaps.configure(api_key=g_key)\n",
    "states_geojson = gmaps.geojson_geometries.load_geometry('us-states')\n",
    "# print(len(states_geojson['features']))\n",
    "# print(states_geojson['features'][0])"
   ]
  },
  {
   "cell_type": "code",
   "execution_count": 2,
   "metadata": {},
   "outputs": [],
   "source": [
    "# US cities\n",
    "cities_data = pd.read_csv('resources/uscities_data.csv')\n",
    "cities_geo = cities_data[['Lat', 'Lng']]\n",
    "chicago = cities_data[cities_data['City']=='Chicago city, Illinois']\n",
    "chicago_locations = chicago[['Lat', 'Lng']]\n",
    "chicago_name = chicago['City'].values[0]\n",
    "# US states\n",
    "data = pd.read_csv('resources/states_2011.csv')\n",
    "data_dict = data.filter(['State_Name', 'Crime_Adj'])\n",
    "data_dict = data_dict.set_index('State_Name').to_dict()[\"Crime_Adj\"]\n",
    "# Extracting info for max value\n",
    "rate_max = data[data[\"Crime_Adj\"] == data[\"Crime_Adj\"].max()]\n",
    "marker_locations_max = rate_max[['Lat', 'Lng']]\n",
    "rate_max_value = round(rate_max[\"Crime_Adj\"],2).values[0]\n",
    "# Extracting info for min value\n",
    "rate_min = data[data[\"Crime_Adj\"] == data[\"Crime_Adj\"].min()]\n",
    "marker_locations_min = rate_min[['Lat', 'Lng']]\n",
    "rate_min_value = round(rate_min[\"Crime_Adj\"],2).values[0]\n",
    "il_rate = round(data_dict['Illinois'],2)"
   ]
  },
  {
   "cell_type": "code",
   "execution_count": 3,
   "metadata": {},
   "outputs": [],
   "source": [
    "# We will need to scale the states values to lie between 0 and 1\n",
    "min_state = min(data_dict.values())\n",
    "max_state = max(data_dict.values())\n",
    "state_range = max_state - min_state\n",
    "\n",
    "def calculate_color(state):\n",
    "    \"\"\"\n",
    "    Convert the state value to a color\n",
    "    \"\"\"\n",
    "    # make state a number between 0 and 1\n",
    "    normalized_state = (state - min_state) / state_range\n",
    "\n",
    "    # invert state so that high value gives dark color\n",
    "    inverse_state = 1.0 - normalized_state\n",
    "\n",
    "    # transform the state value to a matplotlib color\n",
    "    mpl_color = plasma(inverse_state)\n",
    "\n",
    "    # transform from a matplotlib color to a valid CSS color\n",
    "    gmaps_color = to_hex(mpl_color, keep_alpha=False)\n",
    "\n",
    "    return gmaps_color\n",
    "\n",
    "colors = []\n",
    "for feature in states_geojson['features']:\n",
    "    geo_state_name = feature['properties']['NAME']\n",
    "    try:\n",
    "        state = data_dict[geo_state_name]\n",
    "        color = calculate_color(state)\n",
    "    except KeyError:\n",
    "        # no value for that state: return default color\n",
    "        color = (0, 0, 0, 0.3)\n",
    "    colors.append(color)"
   ]
  },
  {
   "cell_type": "code",
   "execution_count": 4,
   "metadata": {},
   "outputs": [
    {
     "data": {
      "application/vnd.jupyter.widget-view+json": {
       "model_id": "3f7b00fde2fe4eec8f9be9c176a83113",
       "version_major": 2,
       "version_minor": 0
      },
      "text/plain": [
       "Figure(layout=FigureLayout(height='420px'))"
      ]
     },
     "metadata": {},
     "output_type": "display_data"
    }
   ],
   "source": [
    "# \n",
    "fig = gmaps.figure()\n",
    "states_layer = gmaps.geojson_layer(\n",
    "    states_geojson,\n",
    "    fill_color=colors,\n",
    "    stroke_color=colors,\n",
    "    fill_opacity=0.8)\n",
    "fig.add_layer(states_layer)\n",
    "cities_layer = gmaps.symbol_layer(cities_geo, fill_color='blue', stroke_color='blue', scale=1)\n",
    "fig.add_layer(cities_layer)\n",
    "marker_max = gmaps.marker_layer(marker_locations_max,\n",
    "    info_box_content='Max Crime Rate per 100k: {}'.format(rate_max_value))\n",
    "fig.add_layer(marker_max)\n",
    "marker_min = gmaps.marker_layer(marker_locations_min,\n",
    "    info_box_content='Min Crime Rate per 100k: {}'.format(rate_min_value))\n",
    "fig.add_layer(marker_min)\n",
    "marker_chi = gmaps.marker_layer(chicago_locations,\n",
    "    info_box_content= 'Chicago,IL Rate per 100k: {}'.format(il_rate))\n",
    "fig.add_layer(marker_chi)\n",
    "fig"
   ]
  },
  {
   "cell_type": "code",
   "execution_count": null,
   "metadata": {},
   "outputs": [],
   "source": []
  }
 ],
 "metadata": {
  "kernelspec": {
   "display_name": "Python 3",
   "language": "python",
   "name": "python3"
  },
  "language_info": {
   "codemirror_mode": {
    "name": "ipython",
    "version": 3
   },
   "file_extension": ".py",
   "mimetype": "text/x-python",
   "name": "python",
   "nbconvert_exporter": "python",
   "pygments_lexer": "ipython3",
   "version": "3.8.2"
  }
 },
 "nbformat": 4,
 "nbformat_minor": 4
}

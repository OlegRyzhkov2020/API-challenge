{
 "cells": [
  {
   "cell_type": "markdown",
   "metadata": {},
   "source": [
    "# Crime_Project\n",
    "### Major Cities Observations and Trends"
   ]
  },
  {
   "cell_type": "code",
   "execution_count": 1,
   "metadata": {},
   "outputs": [],
   "source": [
    "from urllib.parse import urlencode, urlparse, parse_qsl\n",
    "import matplotlib.pyplot as plt\n",
    "import requests\n",
    "import pandas as pd\n",
    "import numpy as np\n",
    "import seaborn as sns\n",
    "sns.set()\n",
    "\n",
    "pd.set_option('display.max_colwidth', 30)\n",
    "pd.options.display.float_format = '{:,.2f}'.format\n",
    "\n",
    "# Census & gmaps API Keys\n",
    "from config import census_key, g_key\n",
    "\n",
    "# Import my GoogleMap object with following methods:\n",
    "        # extract_lat_lng(location)\n",
    "        # search(keyword, radius = 1000, location=None)\n",
    "        # detail(place_id, fields=[\"name\", \"rating\", \"formatted_phone_number\", \"formatted_address\"])\n",
    "from my_func import GoogleMapClient"
   ]
  },
  {
   "cell_type": "code",
   "execution_count": 2,
   "metadata": {},
   "outputs": [],
   "source": [
    "def cities_coord(df):\n",
    "    for row in df.itertuples():\n",
    "        client = GoogleMapClient(api_key = g_key, address_or_postal_code = f'{row.City}')\n",
    "        try: \n",
    "            df.loc[row.Index, 'Lat'] = client.lat\n",
    "            df.loc[row.Index, 'Lng'] = client.lng\n",
    "        except:\n",
    "            pass\n",
    "        if row.Index % 30 == 0: \n",
    "            print('Processing records: found ', row.Index,' cities')\n",
    "    print('\\nProcessing is over\\n')\n",
    "    return df"
   ]
  },
  {
   "cell_type": "markdown",
   "metadata": {},
   "source": [
    "#### Import and Clean List of major US cities over 50k population (788 cities)"
   ]
  },
  {
   "cell_type": "code",
   "execution_count": 3,
   "metadata": {},
   "outputs": [
    {
     "name": "stdout",
     "output_type": "stream",
     "text": [
      "<class 'pandas.core.frame.DataFrame'>\n",
      "Int64Index: 788 entries, 1 to 788\n",
      "Data columns (total 13 columns):\n",
      " #   Column     Non-Null Count  Dtype  \n",
      "---  ------     --------------  -----  \n",
      " 0   City       788 non-null    object \n",
      " 1   Cens_2010  788 non-null    object \n",
      " 2   Base_2010  788 non-null    float64\n",
      " 3   2010       788 non-null    float64\n",
      " 4   2011       788 non-null    float64\n",
      " 5   2012       788 non-null    float64\n",
      " 6   2013       788 non-null    float64\n",
      " 7   2014       788 non-null    float64\n",
      " 8   2015       788 non-null    float64\n",
      " 9   2016       788 non-null    float64\n",
      " 10  2017       788 non-null    float64\n",
      " 11  2018       788 non-null    float64\n",
      " 12  2019       788 non-null    float64\n",
      "dtypes: float64(11), object(2)\n",
      "memory usage: 86.2+ KB\n"
     ]
    }
   ],
   "source": [
    "# Reading and Cleaning DataSet (Data Source: Census.org)\n",
    "uscities_data = pd.read_excel('resources/uscities_over50k.xlsx', header=None) \n",
    "uscities_data.columns = uscities_data.iloc[1]\n",
    "uscities_data.drop([0,1], axis=0, inplace=True)\n",
    "uscities_data.set_index('Rank', inplace=True)\n",
    "uscities_data = uscities_data.rename(columns={\"Census\": \"Cens_2010\",\n",
    "                                      \"Estimates Base\": \"Base_2010\",\n",
    "                                      2010.0: \"2010\", 2011.0: \"2011\",\n",
    "                                      2012.0: \"2012\", 2013.0: \"2013\",\n",
    "                                      2014.0: \"2014\", 2015.0: \"2015\",\n",
    "                                      2016.0: \"2016\", 2017.0: \"2017\",\n",
    "                                      2018.0: \"2018\", 2019.0: \"2019\"})\n",
    "uscities_data.head()\n",
    "for column in uscities_data.columns[2:]:\n",
    "    uscities_data[column]= uscities_data[column].astype(float)\n",
    "uscities_data.info()"
   ]
  },
  {
   "cell_type": "code",
   "execution_count": 4,
   "metadata": {},
   "outputs": [
    {
     "name": "stdout",
     "output_type": "stream",
     "text": [
      "Processing records: found  30  cities\n",
      "Processing records: found  60  cities\n",
      "Processing records: found  90  cities\n",
      "Processing records: found  120  cities\n",
      "Processing records: found  150  cities\n",
      "Processing records: found  180  cities\n",
      "Processing records: found  210  cities\n",
      "Processing records: found  240  cities\n",
      "Processing records: found  270  cities\n",
      "Processing records: found  300  cities\n",
      "Processing records: found  330  cities\n",
      "Processing records: found  360  cities\n",
      "Processing records: found  390  cities\n",
      "Processing records: found  420  cities\n",
      "Processing records: found  450  cities\n",
      "Processing records: found  480  cities\n",
      "Processing records: found  510  cities\n",
      "Processing records: found  540  cities\n",
      "Processing records: found  570  cities\n",
      "Processing records: found  600  cities\n",
      "Processing records: found  630  cities\n",
      "Processing records: found  660  cities\n",
      "Processing records: found  690  cities\n",
      "Processing records: found  720  cities\n",
      "Processing records: found  750  cities\n",
      "Processing records: found  780  cities\n",
      "\n",
      "Processing is over\n",
      "\n"
     ]
    }
   ],
   "source": [
    "uscities_data = cities_coord(uscities_data)"
   ]
  },
  {
   "cell_type": "code",
   "execution_count": 5,
   "metadata": {},
   "outputs": [
    {
     "data": {
      "text/html": [
       "<div>\n",
       "<style scoped>\n",
       "    .dataframe tbody tr th:only-of-type {\n",
       "        vertical-align: middle;\n",
       "    }\n",
       "\n",
       "    .dataframe tbody tr th {\n",
       "        vertical-align: top;\n",
       "    }\n",
       "\n",
       "    .dataframe thead th {\n",
       "        text-align: right;\n",
       "    }\n",
       "</style>\n",
       "<table border=\"1\" class=\"dataframe\">\n",
       "  <thead>\n",
       "    <tr style=\"text-align: right;\">\n",
       "      <th>1</th>\n",
       "      <th>City</th>\n",
       "      <th>Cens_2010</th>\n",
       "      <th>Base_2010</th>\n",
       "      <th>2010</th>\n",
       "      <th>2011</th>\n",
       "      <th>2012</th>\n",
       "      <th>2013</th>\n",
       "      <th>2014</th>\n",
       "      <th>2015</th>\n",
       "      <th>2016</th>\n",
       "      <th>2017</th>\n",
       "      <th>2018</th>\n",
       "      <th>2019</th>\n",
       "      <th>Lat</th>\n",
       "      <th>Lng</th>\n",
       "    </tr>\n",
       "    <tr>\n",
       "      <th>Rank</th>\n",
       "      <th></th>\n",
       "      <th></th>\n",
       "      <th></th>\n",
       "      <th></th>\n",
       "      <th></th>\n",
       "      <th></th>\n",
       "      <th></th>\n",
       "      <th></th>\n",
       "      <th></th>\n",
       "      <th></th>\n",
       "      <th></th>\n",
       "      <th></th>\n",
       "      <th></th>\n",
       "      <th></th>\n",
       "      <th></th>\n",
       "    </tr>\n",
       "  </thead>\n",
       "  <tbody>\n",
       "    <tr>\n",
       "      <th>1</th>\n",
       "      <td>New York city, New York</td>\n",
       "      <td>8175133</td>\n",
       "      <td>8,175,031.00</td>\n",
       "      <td>8,190,209.00</td>\n",
       "      <td>8,272,948.00</td>\n",
       "      <td>8,346,693.00</td>\n",
       "      <td>8,396,091.00</td>\n",
       "      <td>8,433,806.00</td>\n",
       "      <td>8,463,049.00</td>\n",
       "      <td>8,469,153.00</td>\n",
       "      <td>8,437,478.00</td>\n",
       "      <td>8,390,081.00</td>\n",
       "      <td>8,336,817.00</td>\n",
       "      <td>40.71</td>\n",
       "      <td>-74.01</td>\n",
       "    </tr>\n",
       "    <tr>\n",
       "      <th>2</th>\n",
       "      <td>Los Angeles city, California</td>\n",
       "      <td>3792621</td>\n",
       "      <td>3,793,139.00</td>\n",
       "      <td>3,795,512.00</td>\n",
       "      <td>3,820,876.00</td>\n",
       "      <td>3,851,202.00</td>\n",
       "      <td>3,881,622.00</td>\n",
       "      <td>3,909,901.00</td>\n",
       "      <td>3,938,568.00</td>\n",
       "      <td>3,963,226.00</td>\n",
       "      <td>3,975,788.00</td>\n",
       "      <td>3,977,596.00</td>\n",
       "      <td>3,979,576.00</td>\n",
       "      <td>34.05</td>\n",
       "      <td>-118.24</td>\n",
       "    </tr>\n",
       "    <tr>\n",
       "      <th>3</th>\n",
       "      <td>Chicago city, Illinois</td>\n",
       "      <td>2695598</td>\n",
       "      <td>2,695,652.00</td>\n",
       "      <td>2,697,477.00</td>\n",
       "      <td>2,708,114.00</td>\n",
       "      <td>2,719,141.00</td>\n",
       "      <td>2,725,731.00</td>\n",
       "      <td>2,727,066.00</td>\n",
       "      <td>2,724,344.00</td>\n",
       "      <td>2,716,723.00</td>\n",
       "      <td>2,711,069.00</td>\n",
       "      <td>2,701,423.00</td>\n",
       "      <td>2,693,976.00</td>\n",
       "      <td>41.88</td>\n",
       "      <td>-87.63</td>\n",
       "    </tr>\n",
       "    <tr>\n",
       "      <th>4</th>\n",
       "      <td>Houston city, Texas</td>\n",
       "      <td>2099451</td>\n",
       "      <td>2,095,517.00</td>\n",
       "      <td>2,100,280.00</td>\n",
       "      <td>2,126,032.00</td>\n",
       "      <td>2,161,593.00</td>\n",
       "      <td>2,199,391.00</td>\n",
       "      <td>2,241,826.00</td>\n",
       "      <td>2,286,908.00</td>\n",
       "      <td>2,309,544.00</td>\n",
       "      <td>2,316,750.00</td>\n",
       "      <td>2,318,573.00</td>\n",
       "      <td>2,320,268.00</td>\n",
       "      <td>29.76</td>\n",
       "      <td>-95.37</td>\n",
       "    </tr>\n",
       "    <tr>\n",
       "      <th>5</th>\n",
       "      <td>Phoenix city, Arizona</td>\n",
       "      <td>1445632</td>\n",
       "      <td>1,446,691.00</td>\n",
       "      <td>1,449,038.00</td>\n",
       "      <td>1,469,796.00</td>\n",
       "      <td>1,499,274.00</td>\n",
       "      <td>1,526,491.00</td>\n",
       "      <td>1,555,445.00</td>\n",
       "      <td>1,583,690.00</td>\n",
       "      <td>1,612,199.00</td>\n",
       "      <td>1,633,560.00</td>\n",
       "      <td>1,654,675.00</td>\n",
       "      <td>1,680,992.00</td>\n",
       "      <td>33.45</td>\n",
       "      <td>-112.07</td>\n",
       "    </tr>\n",
       "  </tbody>\n",
       "</table>\n",
       "</div>"
      ],
      "text/plain": [
       "1                             City Cens_2010    Base_2010         2010  \\\n",
       "Rank                                                                     \n",
       "1          New York city, New York   8175133 8,175,031.00 8,190,209.00   \n",
       "2     Los Angeles city, California   3792621 3,793,139.00 3,795,512.00   \n",
       "3           Chicago city, Illinois   2695598 2,695,652.00 2,697,477.00   \n",
       "4              Houston city, Texas   2099451 2,095,517.00 2,100,280.00   \n",
       "5            Phoenix city, Arizona   1445632 1,446,691.00 1,449,038.00   \n",
       "\n",
       "1            2011         2012         2013         2014         2015  \\\n",
       "Rank                                                                    \n",
       "1    8,272,948.00 8,346,693.00 8,396,091.00 8,433,806.00 8,463,049.00   \n",
       "2    3,820,876.00 3,851,202.00 3,881,622.00 3,909,901.00 3,938,568.00   \n",
       "3    2,708,114.00 2,719,141.00 2,725,731.00 2,727,066.00 2,724,344.00   \n",
       "4    2,126,032.00 2,161,593.00 2,199,391.00 2,241,826.00 2,286,908.00   \n",
       "5    1,469,796.00 1,499,274.00 1,526,491.00 1,555,445.00 1,583,690.00   \n",
       "\n",
       "1            2016         2017         2018         2019   Lat     Lng  \n",
       "Rank                                                                    \n",
       "1    8,469,153.00 8,437,478.00 8,390,081.00 8,336,817.00 40.71  -74.01  \n",
       "2    3,963,226.00 3,975,788.00 3,977,596.00 3,979,576.00 34.05 -118.24  \n",
       "3    2,716,723.00 2,711,069.00 2,701,423.00 2,693,976.00 41.88  -87.63  \n",
       "4    2,309,544.00 2,316,750.00 2,318,573.00 2,320,268.00 29.76  -95.37  \n",
       "5    1,612,199.00 1,633,560.00 1,654,675.00 1,680,992.00 33.45 -112.07  "
      ]
     },
     "execution_count": 5,
     "metadata": {},
     "output_type": "execute_result"
    }
   ],
   "source": [
    "uscities_data.head()"
   ]
  },
  {
   "cell_type": "code",
   "execution_count": 6,
   "metadata": {},
   "outputs": [],
   "source": [
    "uscities_data.to_csv(\"resources/uscities_data.csv\", encoding=\"utf-8\", index=False)"
   ]
  },
  {
   "cell_type": "markdown",
   "metadata": {},
   "source": [
    "#### Import and Clean Murders Datasets of 79 US big cities"
   ]
  },
  {
   "cell_type": "code",
   "execution_count": 7,
   "metadata": {},
   "outputs": [
    {
     "data": {
      "text/html": [
       "<div>\n",
       "<style scoped>\n",
       "    .dataframe tbody tr th:only-of-type {\n",
       "        vertical-align: middle;\n",
       "    }\n",
       "\n",
       "    .dataframe tbody tr th {\n",
       "        vertical-align: top;\n",
       "    }\n",
       "\n",
       "    .dataframe thead th {\n",
       "        text-align: right;\n",
       "    }\n",
       "</style>\n",
       "<table border=\"1\" class=\"dataframe\">\n",
       "  <thead>\n",
       "    <tr style=\"text-align: right;\">\n",
       "      <th></th>\n",
       "      <th>State</th>\n",
       "      <th>2014</th>\n",
       "      <th>2015</th>\n",
       "      <th>% Change</th>\n",
       "    </tr>\n",
       "    <tr>\n",
       "      <th>City</th>\n",
       "      <th></th>\n",
       "      <th></th>\n",
       "      <th></th>\n",
       "      <th></th>\n",
       "    </tr>\n",
       "  </thead>\n",
       "  <tbody>\n",
       "    <tr>\n",
       "      <th>Chicago</th>\n",
       "      <td>Illinois</td>\n",
       "      <td>411</td>\n",
       "      <td>478</td>\n",
       "      <td>67</td>\n",
       "    </tr>\n",
       "    <tr>\n",
       "      <th>New York</th>\n",
       "      <td>New York</td>\n",
       "      <td>333</td>\n",
       "      <td>352</td>\n",
       "      <td>19</td>\n",
       "    </tr>\n",
       "    <tr>\n",
       "      <th>Baltimore</th>\n",
       "      <td>Maryland</td>\n",
       "      <td>211</td>\n",
       "      <td>344</td>\n",
       "      <td>133</td>\n",
       "    </tr>\n",
       "    <tr>\n",
       "      <th>Houston</th>\n",
       "      <td>Texas</td>\n",
       "      <td>242</td>\n",
       "      <td>303</td>\n",
       "      <td>61</td>\n",
       "    </tr>\n",
       "    <tr>\n",
       "      <th>Detroit</th>\n",
       "      <td>Michigan</td>\n",
       "      <td>298</td>\n",
       "      <td>295</td>\n",
       "      <td>-3</td>\n",
       "    </tr>\n",
       "    <tr>\n",
       "      <th>Los Angeles</th>\n",
       "      <td>California</td>\n",
       "      <td>260</td>\n",
       "      <td>282</td>\n",
       "      <td>22</td>\n",
       "    </tr>\n",
       "    <tr>\n",
       "      <th>Philadelphia</th>\n",
       "      <td>Pennsylvania</td>\n",
       "      <td>248</td>\n",
       "      <td>280</td>\n",
       "      <td>32</td>\n",
       "    </tr>\n",
       "    <tr>\n",
       "      <th>St. Louis</th>\n",
       "      <td>Missouri</td>\n",
       "      <td>159</td>\n",
       "      <td>188</td>\n",
       "      <td>29</td>\n",
       "    </tr>\n",
       "    <tr>\n",
       "      <th>New Orleans</th>\n",
       "      <td>Louisiana</td>\n",
       "      <td>150</td>\n",
       "      <td>164</td>\n",
       "      <td>14</td>\n",
       "    </tr>\n",
       "    <tr>\n",
       "      <th>Washington</th>\n",
       "      <td>D.C.</td>\n",
       "      <td>105</td>\n",
       "      <td>162</td>\n",
       "      <td>57</td>\n",
       "    </tr>\n",
       "  </tbody>\n",
       "</table>\n",
       "</div>"
      ],
      "text/plain": [
       "                     State  2014  2015  % Change\n",
       "City                                            \n",
       "Chicago           Illinois   411   478        67\n",
       "New York          New York   333   352        19\n",
       "Baltimore         Maryland   211   344       133\n",
       "Houston              Texas   242   303        61\n",
       "Detroit           Michigan   298   295        -3\n",
       "Los Angeles     California   260   282        22\n",
       "Philadelphia  Pennsylvania   248   280        32\n",
       "St. Louis         Missouri   159   188        29\n",
       "New Orleans      Louisiana   150   164        14\n",
       "Washington            D.C.   105   162        57"
      ]
     },
     "execution_count": 7,
     "metadata": {},
     "output_type": "execute_result"
    }
   ],
   "source": [
    "# Reading and Cleaning DataSet for 79 major cities (Data Source: Data.org)\n",
    "cities_murders = pd.read_csv('resources/murder_2015.csv', header=None)\n",
    "cities_murders = cities_murders.rename(columns={0: 'City', 1: 'State', 2: '2014', 3: '2015', 4: '% Change'})\n",
    "cities_murders = cities_murders.drop([0])\n",
    "cities_murders[['2014', '2015', '% Change']] = cities_murders[['2014', '2015', '% Change']].astype(int)\n",
    "cities_murders[['City', 'State']] = cities_murders[['City', 'State']].astype('str')\n",
    "cities_murders = cities_murders.sort_values('2015', ascending=False).set_index('City')\n",
    "cities_murders.head(10)"
   ]
  },
  {
   "cell_type": "code",
   "execution_count": 8,
   "metadata": {},
   "outputs": [
    {
     "data": {
      "image/png": "[encoded data removed]",
      "text/plain": [
       "<Figure size 1008x504 with 1 Axes>"
      ]
     },
     "metadata": {},
     "output_type": "display_data"
    }
   ],
   "source": [
    "top_danger_cities = cities_murders.head(10).filter(['State', '2014', '2015'])\n",
    "_= top_danger_cities.plot(kind='barh', title=\"US Top Danger Cities by number of murders\", figsize=(14, 7))"
   ]
  },
  {
   "cell_type": "code",
   "execution_count": 9,
   "metadata": {},
   "outputs": [
    {
     "data": {
      "image/png": "[encoded data removed]",
      "text/plain": [
       "<Figure size 1008x504 with 1 Axes>"
      ]
     },
     "metadata": {},
     "output_type": "display_data"
    }
   ],
   "source": [
    "top_safest_cities = cities_murders.tail(10).filter(['State', '2014', '2015'])\n",
    "_= top_safest_cities.plot(kind='barh', title=\"US Top Safest Cities by number of murders\", figsize=(14, 7))"
   ]
  },
  {
   "cell_type": "code",
   "execution_count": null,
   "metadata": {},
   "outputs": [],
   "source": []
  },
  {
   "cell_type": "markdown",
   "metadata": {},
   "source": [
    "#### Adding Population and Calculating Adjusted Number for Dataset of 79 US big cities"
   ]
  },
  {
   "cell_type": "code",
   "execution_count": 10,
   "metadata": {},
   "outputs": [],
   "source": [
    "# DataSet of 788 US Major Cities: Split City Name into 2 columns - City and State\n",
    "for row in uscities_data.itertuples():\n",
    "    full_city_name = row.City.split(\",\", 2)\n",
    "    city_name = full_city_name[0]\n",
    "    uscities_data.loc[row.Index, 'City'] = city_name.split(\" city\", 2)[0]\n",
    "    uscities_data.loc[row.Index, 'State'] = full_city_name[1]"
   ]
  },
  {
   "cell_type": "code",
   "execution_count": 11,
   "metadata": {},
   "outputs": [],
   "source": [
    "# Adding Estimate Population Data for 2014, 2015 from 788 Major Cities DataFrame\n",
    "cities_murders = cities_murders.reset_index()\n",
    "for row_79 in cities_murders.itertuples():\n",
    "    for row_788 in uscities_data.itertuples():\n",
    "        if row_79.City == row_788.City:\n",
    "            cities_murders.loc[row_79.Index, 'Pop_2014'] = uscities_data.loc[row_788.Index, '2014'].astype(int)\n",
    "            cities_murders.loc[row_79.Index, 'Pop_2015'] = uscities_data.loc[row_788.Index, '2015'].astype(int)\n",
    "# Calculating adjusted rate of murders per 100k population\n",
    "cities_murders['2014_adj'] = cities_murders['2014']/cities_murders['Pop_2014']*100000\n",
    "cities_murders['2015_adj'] = cities_murders['2015']/cities_murders['Pop_2015']*100000\n",
    "cities_murders = cities_murders.sort_values('2015_adj', ascending=False).set_index('City')"
   ]
  },
  {
   "cell_type": "code",
   "execution_count": 12,
   "metadata": {},
   "outputs": [
    {
     "data": {
      "image/png": "[encoded data removed]",
      "text/plain": [
       "<Figure size 1008x504 with 1 Axes>"
      ]
     },
     "metadata": {},
     "output_type": "display_data"
    }
   ],
   "source": [
    "top_danger_cities = cities_murders.head(20).filter(['State', '2015_adj'])\n",
    "_= top_danger_cities.plot(kind='barh', title=\"US Top Danger Cities by adjusted rate of murders per 100k population, 2015\", figsize=(14, 7))\n",
    "plt.savefig('images/top20_danger_cities.png')"
   ]
  },
  {
   "cell_type": "code",
   "execution_count": 14,
   "metadata": {},
   "outputs": [
    {
     "name": "stdout",
     "output_type": "stream",
     "text": [
      "Processing records: found  0  cities\n",
      "Processing records: found  30  cities\n",
      "Processing records: found  60  cities\n",
      "\n",
      "Processing is over\n",
      "\n"
     ]
    }
   ],
   "source": [
    "cities_murders = cities_murders.reset_index()\n",
    "cities_murders = cities_coord(cities_murders)"
   ]
  },
  {
   "cell_type": "code",
   "execution_count": null,
   "metadata": {},
   "outputs": [],
   "source": [
    "# Saving Datasets\n",
    "uscities_data.to_csv(\"resources/uscities_data.csv\", encoding=\"utf-8\", index=False)\n",
    "cities_murders.to_csv(\"resources/cities_murders.csv\", encoding=\"utf-8\", index=False)\n",
    "cities_murders.head()"
   ]
  },
  {
   "cell_type": "code",
   "execution_count": null,
   "metadata": {},
   "outputs": [],
   "source": [
    "# Reading and Cleaning DataSet for 79 cities (Data Source: Data.org) - preliminary data\n",
    "cities_murders_2016 = pd.read_csv('resources/murder_2016_prelim.csv', header=None).filter([0,1,2,3,4])\n",
    "cities_murders_2016 = cities_murders_2016.rename(columns={0: 'City', 1: 'State', 2: '2015', 3: '2016', 4: '% Change'})\n",
    "cities_murders_2016 = cities_murders_2016.drop([0])\n",
    "cities_murders_2016 = cities_murders_2016.sort_values('City', ascending=True)\n",
    "cities_murders_2016[['2015', '2016', '% Change']] = cities_murders_2016[['2015', '2016', '% Change']].astype(int)\n",
    "cities_murders_2016[['City', 'State']] = cities_murders_2016[['City', 'State']].astype('str')\n",
    "cities_murders_2016 = cities_murders_2016.sort_values('2015', ascending=False)"
   ]
  }
 ],
 "metadata": {
  "kernelspec": {
   "display_name": "Python 3",
   "language": "python",
   "name": "python3"
  },
  "language_info": {
   "codemirror_mode": {
    "name": "ipython",
    "version": 3
   },
   "file_extension": ".py",
   "mimetype": "text/x-python",
   "name": "python",
   "nbconvert_exporter": "python",
   "pygments_lexer": "ipython3",
   "version": "3.8.2"
  }
 },
 "nbformat": 4,
 "nbformat_minor": 4
}

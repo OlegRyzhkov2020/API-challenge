{
 "cells": [
  {
   "cell_type": "markdown",
   "metadata": {},
   "source": [
    "# VacationPy"
   ]
  },
  {
   "cell_type": "code",
   "execution_count": 1,
   "metadata": {},
   "outputs": [],
   "source": [
    "# Dependencies and Setup\n",
    "from urllib.parse import urlencode, urlparse, parse_qsl\n",
    "import matplotlib.pyplot as plt\n",
    "import requests\n",
    "import pandas as pd\n",
    "import numpy as np\n",
    "import requests\n",
    "import gmaps\n",
    "import os\n",
    "\n",
    "# Google developer API key\n",
    "from config import g_key\n",
    "\n",
    "# Access maps with unique API key\n",
    "gmaps.configure(api_key=g_key)"
   ]
  },
  {
   "cell_type": "code",
   "execution_count": 2,
   "metadata": {},
   "outputs": [],
   "source": [
    "class GoogleMapClient(object):\n",
    "    lat = None\n",
    "    lng = None\n",
    "    data_type ='json'\n",
    "    location_query = None\n",
    "    api_key=None\n",
    "    \n",
    "    def __init__(self, api_key=None, address_or_postal_code = None, *args, **kwargs):\n",
    "        super().__init__(*args, **kwargs)\n",
    "        if g_key == None:\n",
    "            raise Exception('Api key is required')\n",
    "        self.api_key = api_key\n",
    "        self.location_query = address_or_postal_code\n",
    "        if self.location_query != None:\n",
    "            self.extract_lat_lng()\n",
    "    \n",
    "    def extract_lat_lng(self, location=None):\n",
    "        loc_query = self.location_query\n",
    "        if location != None:\n",
    "            loc_query = location\n",
    "        geocode_url = f\"https://maps.googleapis.com/maps/api/geocode/{self.data_type}\"\n",
    "        params = {'address':self.location_query, 'key': self.api_key}\n",
    "        params_url = urlencode(params)\n",
    "        url = f\"{geocode_url}?{params_url}\"\n",
    "        response = requests.get(url)\n",
    "        if response.status_code not in range(200, 299):\n",
    "            return {}\n",
    "        latlng = {}\n",
    "        try:\n",
    "            latlng = response.json()['results'][0]['geometry']['location']\n",
    "        except:\n",
    "            pass\n",
    "        lat, lng = latlng.get('lat'), latlng.get('lng')\n",
    "        self.lat = lat\n",
    "        self.lng = lng\n",
    "        return lat, lng\n",
    "    \n",
    "    def search(self, keyword='Mexican food', radius = 1000, location=None):\n",
    "        lat, lng = self.lat, self.lng\n",
    "        if location != None:\n",
    "            lat, lng = extract_lat_lng()\n",
    "        end_point = f'https://maps.googleapis.com/maps/api/place/nearbysearch/{self.data_type}'\n",
    "        params = {\n",
    "                'key': self.api_key,\n",
    "                'location': f\"{lat},{lng}\",\n",
    "                'radius': radius,\n",
    "                'keyword': keyword\n",
    "                        }\n",
    "        params_encoded = urlencode(params)\n",
    "        places_endpoint = f\"{end_point}?{params_encoded}\"\n",
    "        response = requests.get(places_endpoint)\n",
    "        if response.status_code not in range(200, 299):\n",
    "            return {}\n",
    "        return response.json()\n",
    "    \n",
    "    def detail(self, place_id='ChIJv1DlfKQsDogRhm8x60TVJyo'):\n",
    "        detail_end_point = f'https://maps.googleapis.com/maps/api/place/details/{self.data_type}'\n",
    "        detail_params = {\n",
    "                'place_id': f'{place_id}',\n",
    "                'fields': 'name,rating,formatted_phone_number,formatted_address',\n",
    "                'key': self.api_key\n",
    "                }\n",
    "        detail_params_encoded = urlencode(detail_params)\n",
    "        detail_places_endpoint = f\"{detail_end_point}?{detail_params_encoded}\"\n",
    "        response = requests.get(detail_places_endpoint)\n",
    "        if response.status_code not in range(200, 299):\n",
    "            return {}\n",
    "        return response.json()      "
   ]
  },
  {
   "cell_type": "code",
   "execution_count": 12,
   "metadata": {},
   "outputs": [
    {
     "name": "stdout",
     "output_type": "stream",
     "text": [
      "41.886543 -87.61998\n"
     ]
    }
   ],
   "source": [
    "client = GoogleMapClient(api_key = g_key, address_or_postal_code = '225 N Columbus Dr, Chicago, IL 60601, USA')\n",
    "print(client.lat, client.lng)"
   ]
  },
  {
   "cell_type": "code",
   "execution_count": 20,
   "metadata": {},
   "outputs": [
    {
     "data": {
      "text/plain": [
       "{'business_status': 'OPERATIONAL',\n",
       " 'geometry': {'location': {'lat': 41.9741625, 'lng': -87.9073214},\n",
       "  'viewport': {'northeast': {'lat': 41.98239555, 'lng': -87.86994169999998},\n",
       "   'southwest': {'lat': 41.97141814999999, 'lng': -87.9197813}}},\n",
       " 'icon': 'https://maps.gstatic.com/mapfiles/place_api/icons/airport-71.png',\n",
       " 'id': 'db999cdcbd87af444266b30568e04284e640d87f',\n",
       " 'name': \"O'Hare International Airport\",\n",
       " 'photos': [{'height': 3072,\n",
       "   'html_attributions': ['<a href=\"https://maps.google.com/maps/contrib/107680673936081009971\">George Michael</a>'],\n",
       "   'photo_reference': 'CmRaAAAAgwPI8cKd6zAC08fTNXzrgL5pDJg1LVWHtQS6cGUSBz9N3Ajm1PNGqYw2Vnt7b8ikvu7IuPKz8Ly4YnneiLu6qHrrQCJVN2pO6R3XG_yfEaMnXfhOG7HS6NhpXbEyPF1HEhCpMIOlYkHVvIY_0Lkgwp3XGhSSY6H0Hy7fypQCcVvhVQ3-p5rVLg',\n",
       "   'width': 4096}],\n",
       " 'place_id': 'ChIJ82J3aie0D4gRS61ZAgdHF1E',\n",
       " 'plus_code': {'compound_code': 'X3FV+M3 Chicago, Illinois',\n",
       "  'global_code': '86HJX3FV+M3'},\n",
       " 'rating': 3.7,\n",
       " 'reference': 'ChIJ82J3aie0D4gRS61ZAgdHF1E',\n",
       " 'scope': 'GOOGLE',\n",
       " 'types': ['airport', 'point_of_interest', 'establishment'],\n",
       " 'user_ratings_total': 9406,\n",
       " 'vicinity': \"10000 W O'Hare Ave, Chicago\"}"
      ]
     },
     "execution_count": 20,
     "metadata": {},
     "output_type": "execute_result"
    }
   ],
   "source": [
    "client.search('International airport', radius=25000)['results'][0]['name']"
   ]
  },
  {
   "cell_type": "markdown",
   "metadata": {},
   "source": [
    "### Store Part I results into DataFrame\n",
    "* Load the csv exported in Part I to a DataFrame"
   ]
  },
  {
   "cell_type": "markdown",
   "metadata": {},
   "source": [
    "### Humidity Heatmap\n",
    "* Configure gmaps.\n",
    "* Use the Lat and Lng as locations and Humidity as the weight.\n",
    "* Add Heatmap layer to map."
   ]
  },
  {
   "cell_type": "code",
   "execution_count": null,
   "metadata": {},
   "outputs": [],
   "source": []
  },
  {
   "cell_type": "code",
   "execution_count": null,
   "metadata": {},
   "outputs": [],
   "source": []
  },
  {
   "cell_type": "markdown",
   "metadata": {},
   "source": [
    "### Create new DataFrame fitting weather criteria\n",
    "* Narrow down the cities to fit weather conditions.\n",
    "* Drop any rows will null values."
   ]
  },
  {
   "cell_type": "code",
   "execution_count": null,
   "metadata": {},
   "outputs": [],
   "source": []
  },
  {
   "cell_type": "markdown",
   "metadata": {},
   "source": [
    "### Hotel Map\n",
    "* Store into variable named `hotel_df`.\n",
    "* Add a \"Hotel Name\" column to the DataFrame.\n",
    "* Set parameters to search for hotels with 5000 meters.\n",
    "* Hit the Google Places API for each city's coordinates.\n",
    "* Store the first Hotel result into the DataFrame.\n",
    "* Plot markers on top of the heatmap."
   ]
  },
  {
   "cell_type": "code",
   "execution_count": null,
   "metadata": {},
   "outputs": [],
   "source": []
  },
  {
   "cell_type": "code",
   "execution_count": null,
   "metadata": {},
   "outputs": [],
   "source": []
  },
  {
   "cell_type": "code",
   "execution_count": 11,
   "metadata": {},
   "outputs": [
    {
     "ename": "NameError",
     "evalue": "name 'hotel_df' is not defined",
     "output_type": "error",
     "traceback": [
      "\u001b[0;31m---------------------------------------------------------------------------\u001b[0m",
      "\u001b[0;31mNameError\u001b[0m                                 Traceback (most recent call last)",
      "\u001b[0;32m<ipython-input-11-464b2b3e63ad>\u001b[0m in \u001b[0;36m<module>\u001b[0;34m\u001b[0m\n\u001b[1;32m     11\u001b[0m \u001b[0;31m# Store the DataFrame Row\u001b[0m\u001b[0;34m\u001b[0m\u001b[0;34m\u001b[0m\u001b[0;34m\u001b[0m\u001b[0m\n\u001b[1;32m     12\u001b[0m \u001b[0;31m# NOTE: be sure to update with your DataFrame name\u001b[0m\u001b[0;34m\u001b[0m\u001b[0;34m\u001b[0m\u001b[0;34m\u001b[0m\u001b[0m\n\u001b[0;32m---> 13\u001b[0;31m \u001b[0mhotel_info\u001b[0m \u001b[0;34m=\u001b[0m \u001b[0;34m[\u001b[0m\u001b[0minfo_box_template\u001b[0m\u001b[0;34m.\u001b[0m\u001b[0mformat\u001b[0m\u001b[0;34m(\u001b[0m\u001b[0;34m**\u001b[0m\u001b[0mrow\u001b[0m\u001b[0;34m)\u001b[0m \u001b[0;32mfor\u001b[0m \u001b[0mindex\u001b[0m\u001b[0;34m,\u001b[0m \u001b[0mrow\u001b[0m \u001b[0;32min\u001b[0m \u001b[0mhotel_df\u001b[0m\u001b[0;34m.\u001b[0m\u001b[0miterrows\u001b[0m\u001b[0;34m(\u001b[0m\u001b[0;34m)\u001b[0m\u001b[0;34m]\u001b[0m\u001b[0;34m\u001b[0m\u001b[0;34m\u001b[0m\u001b[0m\n\u001b[0m\u001b[1;32m     14\u001b[0m \u001b[0mlocations\u001b[0m \u001b[0;34m=\u001b[0m \u001b[0mhotel_df\u001b[0m\u001b[0;34m[\u001b[0m\u001b[0;34m[\u001b[0m\u001b[0;34m\"Lat\"\u001b[0m\u001b[0;34m,\u001b[0m \u001b[0;34m\"Lng\"\u001b[0m\u001b[0;34m]\u001b[0m\u001b[0;34m]\u001b[0m\u001b[0;34m\u001b[0m\u001b[0;34m\u001b[0m\u001b[0m\n",
      "\u001b[0;31mNameError\u001b[0m: name 'hotel_df' is not defined"
     ]
    }
   ],
   "source": [
    "# NOTE: Do not change any of the code in this cell\n",
    "\n",
    "# Using the template add the hotel marks to the heatmap\n",
    "info_box_template = \"\"\"\n",
    "<dl>\n",
    "<dt>Name</dt><dd>{Hotel Name}</dd>\n",
    "<dt>City</dt><dd>{City}</dd>\n",
    "<dt>Country</dt><dd>{Country}</dd>\n",
    "</dl>\n",
    "\"\"\"\n",
    "# Store the DataFrame Row\n",
    "# NOTE: be sure to update with your DataFrame name\n",
    "hotel_info = [info_box_template.format(**row) for index, row in hotel_df.iterrows()]\n",
    "locations = hotel_df[[\"Lat\", \"Lng\"]]"
   ]
  },
  {
   "cell_type": "code",
   "execution_count": null,
   "metadata": {},
   "outputs": [],
   "source": [
    "# Add marker layer ontop of heat map\n",
    "\n",
    "\n",
    "# Display figure\n"
   ]
  },
  {
   "cell_type": "code",
   "execution_count": null,
   "metadata": {},
   "outputs": [],
   "source": []
  },
  {
   "cell_type": "code",
   "execution_count": null,
   "metadata": {},
   "outputs": [],
   "source": [
    "jupyter nbextension enable --py gmaps"
   ]
  },
  {
   "cell_type": "code",
   "execution_count": null,
   "metadata": {},
   "outputs": [],
   "source": []
  },
  {
   "cell_type": "code",
   "execution_count": null,
   "metadata": {},
   "outputs": [],
   "source": []
  },
  {
   "cell_type": "code",
   "execution_count": null,
   "metadata": {},
   "outputs": [],
   "source": []
  }
 ],
 "metadata": {
  "kernelspec": {
   "display_name": "Python 3",
   "language": "python",
   "name": "python3"
  },
  "language_info": {
   "codemirror_mode": {
    "name": "ipython",
    "version": 3
   },
   "file_extension": ".py",
   "mimetype": "text/x-python",
   "name": "python",
   "nbconvert_exporter": "python",
   "pygments_lexer": "ipython3",
   "version": "3.8.2"
  },
  "latex_envs": {
   "LaTeX_envs_menu_present": true,
   "autoclose": false,
   "autocomplete": true,
   "bibliofile": "biblio.bib",
   "cite_by": "apalike",
   "current_citInitial": 1,
   "eqLabelWithNumbers": true,
   "eqNumInitial": 1,
   "hotkeys": {
    "equation": "Ctrl-E",
    "itemize": "Ctrl-I"
   },
   "labels_anchors": false,
   "latex_user_defs": false,
   "report_style_numbering": false,
   "user_envs_cfg": false
  }
 },
 "nbformat": 4,
 "nbformat_minor": 4
}
